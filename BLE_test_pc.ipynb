{
 "cells": [
  {
   "cell_type": "code",
   "execution_count": 6,
   "id": "therapeutic-lucas",
   "metadata": {
    "scrolled": true
   },
   "outputs": [],
   "source": [
    "import numpy as np\n",
    "import pandas as pd\n",
    "import matplotlib.pyplot as plt\n",
    "import scipy\n",
    "import statistics\n",
    "from sklearn import svm\n",
    "#from scipy.spatial.transform import Rotation\n",
    "from scipy.signal import find_peaks, butter, filtfilt\n",
    "from scipy.io import wavfile\n",
    "from IPython.display import Audio\n",
    "import time\n",
    "import threading\n",
    "import ble_itf"
   ]
  },
  {
   "cell_type": "code",
   "execution_count": 7,
   "id": "disturbed-uruguay",
   "metadata": {},
   "outputs": [],
   "source": [
    "def movement_classify():\n",
    "    X = [[2.2, 0.5428574122182267], [2.2, 0.5404589046459198], [2.4, 0.5525351030388725], [2.4, 0.541671541360155], [3.0, 1.3630733939992992], [2.8, 0.9675008316355763], [2.8, 0.9177557494006532], [3.0, 0.8227610468680422], [2.2, 0.48542657722277854], [2.4, 0.4515375846000618], [2.2, 0.6913393373331244], [2.2, 0.5147064781432921], [2.4, 0.5659609493986341], [2.6, 0.5670707115545206], [2.4, 0.5530952013135776], [2.4, 0.5433910570786663], [2.0, 0.3427726924350805], [2.2, 0.35785369267888106], [2.2, 0.32088708053300724], [2.0, 0.35820110407927225], [1.8, 0.2441267727566469], [2.2, 0.2560974573163057], [2.4, 0.29013040991723454], [2.6, 0.26375776763130115], [2.0, 0.3682096009760422], [2.2, 0.3106402410275752], [2.0, 0.34740369528865933], [2.0, 0.3684995397804337], [0.0, 0.09550067361576874], [0.0, 0.05741004333376792], [0.0, 0.04622048628301063], [0.0, 0.15054380757983327], [4.2, 1.0641837451676484], [4.0, 3.7371110017109523], [4.0, 0.8438362903023318], [3.8, 1.0766827098271423], [3.4, 1.3490433320503434], [3.4, 1.225342605407773], [3.4, 1.4298454144233401], [3.4, 1.333955893999703], [3.4, 1.2653283359140188], [3.2, 1.1744916325046808], [3.2, 1.2062698061964339], [3.2, 1.2327780823632866], [3.2, 1.8176819110610922], [3.2, 2.462146601677347], [3.2, 2.7366759282369366], [3.0, 2.50136941277341]]\n",
    "    Y = [1, 1, 1, 1, 1, 1, 1, 1, 1, 1, 1, 1, 1, 1, 1, 1, 1, 1, 1, 1, 1, 1, 1, 1, 1, 1, 1, 1, 0, 0, 0, 0, 2, 2, 2, 2, 2, 2, 2, 2, 2, 2, 2, 2, 2, 2, 2, 2]\n",
    "    lin_clf = svm.LinearSVC()\n",
    "    lin_clf.fit(X, Y)\n",
    "    five_sec_df = pd.DataFrame(data={})\n",
    "    \n",
    "    while True:\n",
    "        imu_buf = ble_itf.imu_buf  \n",
    "        temp_dict = {                           #.......................................................\n",
    "            'ax': imu_buf['ax'][-420:],\n",
    "            'ay': imu_buf['ay'][-420:],\n",
    "            'az': imu_buf['az'][-420:]\n",
    "        }\n",
    "        if len(imu_buf['ax']) > 420:\n",
    "            five_sec_df = five_sec_df[:min(len(five_sec_df),420*4)]\n",
    "            five_sec_df += pd.DataFrame.from_dict(temp_dict)\n",
    "            if len(five_sec_df) >= 420*5:\n",
    "                X_cur = imu_steps_freq_and_peak_height(dict(five_sec_df),5)\n",
    "                print(lin_clf.predict(X_cur))\n",
    "                time.sleep(1)\n",
    "    "
   ]
  },
  {
   "cell_type": "code",
   "execution_count": 3,
   "id": "acquired-hudson",
   "metadata": {},
   "outputs": [
    {
     "ename": "NameError",
     "evalue": "name 'pd' is not defined",
     "output_type": "error",
     "traceback": [
      "\u001b[1;31m---------------------------------------------------------------------------\u001b[0m",
      "\u001b[1;31mNameError\u001b[0m                                 Traceback (most recent call last)",
      "\u001b[1;32m<ipython-input-3-e58d8452569b>\u001b[0m in \u001b[0;36m<module>\u001b[1;34m\u001b[0m\n\u001b[1;32m----> 1\u001b[1;33m \u001b[0mdf\u001b[0m \u001b[1;33m=\u001b[0m \u001b[0mpd\u001b[0m\u001b[1;33m.\u001b[0m\u001b[0mread_csv\u001b[0m\u001b[1;33m(\u001b[0m\u001b[1;34m'imu_jogging_ed_70.csv'\u001b[0m\u001b[1;33m)\u001b[0m\u001b[1;33m\u001b[0m\u001b[1;33m\u001b[0m\u001b[0m\n\u001b[0m\u001b[0;32m      2\u001b[0m \u001b[0mprint\u001b[0m\u001b[1;33m(\u001b[0m\u001b[0mtype\u001b[0m\u001b[1;33m(\u001b[0m\u001b[0mdf\u001b[0m\u001b[1;33m)\u001b[0m\u001b[1;33m)\u001b[0m\u001b[1;33m\u001b[0m\u001b[1;33m\u001b[0m\u001b[0m\n\u001b[0;32m      3\u001b[0m \u001b[0mdf_len\u001b[0m \u001b[1;33m=\u001b[0m \u001b[0mlen\u001b[0m\u001b[1;33m(\u001b[0m\u001b[0mdf\u001b[0m\u001b[1;33m)\u001b[0m\u001b[1;33m\u001b[0m\u001b[1;33m\u001b[0m\u001b[0m\n\u001b[0;32m      4\u001b[0m \u001b[0mimu_5s_bufs\u001b[0m \u001b[1;33m=\u001b[0m \u001b[1;33m[\u001b[0m\u001b[1;33m]\u001b[0m\u001b[1;33m\u001b[0m\u001b[1;33m\u001b[0m\u001b[0m\n\u001b[0;32m      5\u001b[0m \u001b[0mimu_5s_bufs\u001b[0m\u001b[1;33m.\u001b[0m\u001b[0mappend\u001b[0m\u001b[1;33m(\u001b[0m\u001b[0mdict\u001b[0m\u001b[1;33m(\u001b[0m\u001b[0mdf\u001b[0m\u001b[1;33m[\u001b[0m\u001b[1;36m0\u001b[0m\u001b[1;33m:\u001b[0m\u001b[0mint\u001b[0m\u001b[1;33m(\u001b[0m\u001b[0mdf_len\u001b[0m\u001b[1;33m/\u001b[0m\u001b[1;36m4\u001b[0m\u001b[1;33m)\u001b[0m\u001b[1;33m]\u001b[0m\u001b[1;33m)\u001b[0m\u001b[1;33m)\u001b[0m\u001b[1;33m\u001b[0m\u001b[1;33m\u001b[0m\u001b[0m\n",
      "\u001b[1;31mNameError\u001b[0m: name 'pd' is not defined"
     ]
    }
   ],
   "source": [
    "df = pd.read_csv('imu_jogging_ed_70.csv')\n",
    "print(type(df))\n",
    "df_len = len(df)\n",
    "imu_5s_bufs = []\n",
    "imu_5s_bufs.append(dict(df[0:int(df_len/4)]))\n",
    "imu_5s_bufs.append(dict(df[int(df_len/4):int(df_len/2)]))\n",
    "imu_5s_bufs.append(dict(df[int(df_len/2):int(df_len*3/4)]))\n",
    "imu_5s_bufs.append(dict(df[int(df_len*3/4):]))"
   ]
  },
  {
   "cell_type": "code",
   "execution_count": 4,
   "id": "scheduled-justice",
   "metadata": {},
   "outputs": [],
   "source": [
    "def imu_steps_freq_and_peak_height(imu_buf, time_interval):\n",
    "\n",
    "    steps = 0\n",
    "    avg_peak_height = 0\n",
    "\n",
    "    if len(imu_buf['ax']) >= 420 * time_interval:\n",
    "        a_x = 0.5*imu_buf['ax']\n",
    "        a_y = imu_buf['ay']\n",
    "        a_z = 0.5*imu_buf['az']\n",
    "        a_xyz = a_x + a_y + a_z\n",
    "\n",
    "        # low pass filter\n",
    "        b, a = butter(3, 0.048, 'low')\n",
    "        y = filtfilt(b, a, a_xyz)\n",
    "\n",
    "        # peak detection\n",
    "        y -= np.min(y)\n",
    "        peaks = find_peaks(y, height = 0)\n",
    "        \n",
    "        # find mean (use median in the future in case of outliers) peak height and number of steps\n",
    "        steps = 0\n",
    "        for peak_height in peaks[1]['peak_heights']:\n",
    "            avg_peak_height += peak_height\n",
    "            if peak_height >= 0.2:             # required minimum height for a peak\n",
    "                steps += 1\n",
    "        avg_peak_height /= len(peaks[0])\n",
    "        \n",
    "        #print(steps,\"avg_peak_height: \", avg_peak_height)\n",
    "        #print('min peak height: ', min(peaks[1]['peak_heights']))\n",
    "        #print('max peak height: ', max(peaks[1]['peak_heights']))\n",
    "        \n",
    "    return [steps/time_interval, avg_peak_height]\n"
   ]
  },
  {
   "cell_type": "code",
   "execution_count": 5,
   "id": "prime-danger",
   "metadata": {},
   "outputs": [
    {
     "ename": "NameError",
     "evalue": "name 'ble_itf' is not defined",
     "output_type": "error",
     "traceback": [
      "\u001b[1;31m---------------------------------------------------------------------------\u001b[0m",
      "\u001b[1;31mNameError\u001b[0m                                 Traceback (most recent call last)",
      "\u001b[1;32m<ipython-input-5-16e2ee3d4274>\u001b[0m in \u001b[0;36masync-def-wrapper\u001b[1;34m()\u001b[0m\n\u001b[0;32m      2\u001b[0m ble_itf.imu_buf = {\n\u001b[0;32m      3\u001b[0m         \u001b[1;34m'ax'\u001b[0m \u001b[1;33m:\u001b[0m \u001b[1;33m[\u001b[0m\u001b[1;33m]\u001b[0m\u001b[1;33m,\u001b[0m\u001b[1;33m\u001b[0m\u001b[1;33m\u001b[0m\u001b[0m\n\u001b[1;32m----> 4\u001b[1;33m         \u001b[1;34m'ay'\u001b[0m \u001b[1;33m:\u001b[0m \u001b[1;33m[\u001b[0m\u001b[1;33m]\u001b[0m\u001b[1;33m,\u001b[0m\u001b[1;33m\u001b[0m\u001b[1;33m\u001b[0m\u001b[0m\n\u001b[0m\u001b[0;32m      5\u001b[0m         \u001b[1;34m'az'\u001b[0m \u001b[1;33m:\u001b[0m \u001b[1;33m[\u001b[0m\u001b[1;33m]\u001b[0m\u001b[1;33m,\u001b[0m\u001b[1;33m\u001b[0m\u001b[1;33m\u001b[0m\u001b[0m\n\u001b[0;32m      6\u001b[0m         \u001b[1;34m'wx'\u001b[0m \u001b[1;33m:\u001b[0m \u001b[1;33m[\u001b[0m\u001b[1;33m]\u001b[0m\u001b[1;33m,\u001b[0m\u001b[1;33m\u001b[0m\u001b[1;33m\u001b[0m\u001b[0m\n",
      "\u001b[1;31mNameError\u001b[0m: name 'ble_itf' is not defined"
     ]
    }
   ],
   "source": [
    "ble_itf.mic_buf = []\n",
    "ble_itf.imu_buf = {\n",
    "\t'ax' : [],\n",
    "\t'ay' : [],\n",
    "\t'az' : [],\n",
    "\t'wx' : [],\n",
    "\t'wy' : [],\n",
    "\t'wz' : [],\n",
    "\t'mx' : [],\n",
    "\t'my' : [],\n",
    "\t'mz' : [],\n",
    "}\n",
    "# walking_thread = threading.Thread(target = movement_classify, name = 'walking_thread')\n",
    "# walking_thread.start()\n",
    "await ble_itf.call()\n",
    "# global stop_thread\n",
    "# stop_thread = 1\n",
    "# walking_thread.join()"
   ]
  }
 ],
 "metadata": {
  "interpreter": {
   "hash": "24e0735208a08393bf3ee81a0c12f9c86fdfb4195b6121c64527702e7d9bc896"
  },
  "kernelspec": {
   "display_name": "Python 3.7.10 64-bit (conda)",
   "name": "python3"
  },
  "language_info": {
   "codemirror_mode": {
    "name": "ipython",
    "version": 3
   },
   "file_extension": ".py",
   "mimetype": "text/x-python",
   "name": "python",
   "nbconvert_exporter": "python",
   "pygments_lexer": "ipython3",
   "version": "3.7.10"
  }
 },
 "nbformat": 4,
 "nbformat_minor": 5
}
